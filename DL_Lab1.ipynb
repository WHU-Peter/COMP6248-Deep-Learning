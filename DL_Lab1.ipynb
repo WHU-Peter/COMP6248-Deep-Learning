{
  "nbformat": 4,
  "nbformat_minor": 0,
  "metadata": {
    "colab": {
      "name": "DL_Lab1.ipynb",
      "provenance": [],
      "authorship_tag": "ABX9TyOoQrw73H8lW5IouSQIrcwO",
      "include_colab_link": true
    },
    "kernelspec": {
      "name": "python3",
      "display_name": "Python 3"
    },
    "language_info": {
      "name": "python"
    }
  },
  "cells": [
    {
      "cell_type": "markdown",
      "metadata": {
        "id": "view-in-github",
        "colab_type": "text"
      },
      "source": [
        "<a href=\"https://colab.research.google.com/github/WHU-Peter/COMP6248-Deep-Learning/blob/master/DL_Lab1.ipynb\" target=\"_parent\"><img src=\"https://colab.research.google.com/assets/colab-badge.svg\" alt=\"Open In Colab\"/></a>"
      ]
    },
    {
      "cell_type": "code",
      "metadata": {
        "id": "-zaMYVl3-x4-"
      },
      "source": [
        "# Execute this code block to install dependencies when running on colab\n",
        "try:\n",
        "    import torch\n",
        "except:\n",
        "    from os.path import exists\n",
        "    from wheel.pep425tags import get_abbr_impl, get_impl_ver, get_abi_tag\n",
        "    platform = '{}{}-{}'.format(get_abbr_impl(), get_impl_ver(), get_abi_tag())\n",
        "    cuda_output = !ldconfig -p|grep cudart.so|sed -e 's/.*\\.\\([0-9]*\\)\\.\\([0-9]*\\)$/cu\\1\\2/'\n",
        "    accelerator = cuda_output[0] if exists('/dev/nvidia0') else 'cpu'\n",
        "\n",
        "    !pip install -q http://download.pytorch.org/whl/{accelerator}/torch-1.0.0-{platform}-linux_x86_64.whl torchvision\n",
        "import torch  \n",
        "import numpy as np"
      ],
      "execution_count": null,
      "outputs": []
    },
    {
      "cell_type": "code",
      "metadata": {
        "id": "4dRBC4yh6_pW"
      },
      "source": [
        "def sgd_factorise (A, rank, num_epochs =1000,lr =0.01):\n",
        "  U = torch.rand(A.shape[0], rank)\n",
        "  V = torch.rand(A.shape[1], rank)\n",
        "  for n in range(num_epochs): \n",
        "    for r in range(A.shape[0]):\n",
        "      for c in range(A.shape[1]): \n",
        "        e = A[r][c] - U[r]@V[c].t()\n",
        "        Ur_origin = U[r] \n",
        "        U[r] = U[r] + lr * e * V[c]\n",
        "        V[c] = V[c] + lr * e * Ur_origin\n",
        "  return U,V"
      ],
      "execution_count": null,
      "outputs": []
    },
    {
      "cell_type": "code",
      "metadata": {
        "colab": {
          "base_uri": "https://localhost:8080/"
        },
        "id": "ScH5MsIz_lfo",
        "outputId": "45cc60b1-80d0-45c8-9c7d-b442041b6fcf"
      },
      "source": [
        "A_array = np.array([0.3374,0.6005,0.1735,3.3359, 0.0492,1.8374,2.9407,0.5301,2.2620]).reshape(3,3)\n",
        "A = torch.from_numpy(A_array) \n",
        "U,V = sgd_factorise(A, 2)\n",
        "print (U,V)\n",
        "print(torch.nn.functional.mse_loss(U@V.t(), A, reduction ='sum'))"
      ],
      "execution_count": null,
      "outputs": [
        {
          "output_type": "stream",
          "text": [
            "tensor([[-0.0856,  0.6243],\n",
            "        [ 1.7237,  0.2428],\n",
            "        [ 1.3505,  0.9830]]) tensor([[ 1.8072,  0.5980],\n",
            "        [-0.1193,  0.7806],\n",
            "        [ 1.0350,  0.7324]])\n",
            "tensor(0.1226, dtype=torch.float64)\n"
          ],
          "name": "stdout"
        }
      ]
    },
    {
      "cell_type": "code",
      "metadata": {
        "colab": {
          "base_uri": "https://localhost:8080/"
        },
        "id": "2myr1vsH-suH",
        "outputId": "ba6bf786-d8c3-42bb-9bfe-6882a321cfff"
      },
      "source": [
        "U,S,V = torch.svd(A)\n",
        "S[-1] = 0\n",
        "print(torch.nn.functional.mse_loss(U@torch.diag(S)@V.t(), A, reduction ='sum'))"
      ],
      "execution_count": null,
      "outputs": [
        {
          "output_type": "stream",
          "text": [
            "tensor(0.1219, dtype=torch.float64)\n"
          ],
          "name": "stdout"
        }
      ]
    },
    {
      "cell_type": "code",
      "metadata": {
        "id": "nVi8KYus_37N"
      },
      "source": [
        "def sgd_factorise_masked (A, M, rank, num_epochs =1000,lr =0.01):\n",
        "  U = torch.rand(A.shape[0], rank)\n",
        "  V = torch.rand(A.shape[1], rank)\n",
        "  for n in range(num_epochs): \n",
        "    for r in range(A.shape[0]):\n",
        "      for c in range(A.shape[1]):\n",
        "        if M[r,c] == 1:\n",
        "          e = A[r][c] - U[r]@V[c].t()\n",
        "          Ur_origin = U[r] \n",
        "          U[r] = U[r] + lr * e * V[c]\n",
        "          V[c] = V[c] + lr * e * Ur_origin\n",
        "  return U,V"
      ],
      "execution_count": null,
      "outputs": []
    },
    {
      "cell_type": "code",
      "metadata": {
        "colab": {
          "base_uri": "https://localhost:8080/"
        },
        "id": "x4DHuoOeAeun",
        "outputId": "108452db-44ce-4e9b-f17e-669f707861dd"
      },
      "source": [
        "A_origin = torch.from_numpy(np.array([0.3374,0.6005,0.1735,3.3359, 0.0492,1.8374,2.9407,0.5301,2.2620]).reshape(3,3))\n",
        "A_array = np.array([0.3374,0.6005,0.1735,np.nan, 0.0492,1.8374,2.9407,np.nan,2.2620]).reshape(3,3)\n",
        "A = torch.from_numpy(A_array) \n",
        "M_array = np.array ([1,1,1,0,1,1,1,0,1]).reshape(3,3)\n",
        "M = torch.from_numpy(M_array)\n",
        "U,V = sgd_factorise_masked(A, M, 2, num_epochs =1000)\n",
        "A_completion = U@V.t()\n",
        "print(U,V)\n",
        "print(A_completion)\n",
        "print(torch.nn.functional.mse_loss(A_completion, A_origin, reduction ='sum'))"
      ],
      "execution_count": null,
      "outputs": [
        {
          "output_type": "stream",
          "text": [
            "tensor([[ 0.6466, -0.4184],\n",
            "        [ 0.8007,  1.1769],\n",
            "        [ 1.5570,  0.9241]]) tensor([[ 1.2362,  1.0987],\n",
            "        [ 0.6632, -0.4093],\n",
            "        [ 0.8844,  0.9589]])\n",
            "tensor([[0.3397, 0.6001, 0.1707],\n",
            "        [2.2830, 0.0493, 1.8367],\n",
            "        [2.9401, 0.6543, 2.2630]])\n",
            "tensor(1.1241, dtype=torch.float64)\n"
          ],
          "name": "stdout"
        }
      ]
    },
    {
      "cell_type": "code",
      "metadata": {
        "id": "gQqW263bJ3BA"
      },
      "source": [
        ""
      ],
      "execution_count": null,
      "outputs": []
    }
  ]
}